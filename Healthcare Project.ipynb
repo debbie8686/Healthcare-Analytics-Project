{
 "cells": [
  {
   "cell_type": "markdown",
   "id": "7c15523e",
   "metadata": {},
   "source": [
    "# Import Data"
   ]
  },
  {
   "cell_type": "code",
   "execution_count": 1,
   "id": "abd06189",
   "metadata": {},
   "outputs": [],
   "source": [
    "import pandas as pd\n",
    "import matplotlib.pyplot as plt\n",
    "import seaborn as sns\n",
    "\n",
    "file_path = r\"/Users/jungjungchen/Downloads/healthcare_dataset.csv\"  \n",
    "df = pd.read_csv(file_path)"
   ]
  },
  {
   "cell_type": "code",
   "execution_count": 2,
   "id": "fb547861",
   "metadata": {},
   "outputs": [
    {
     "name": "stdout",
     "output_type": "stream",
     "text": [
      "            Name  Age  Gender Blood Type Medical Condition Date of Admission  \\\n",
      "0  Bobby JacksOn   30    Male         B-            Cancer        2024-01-31   \n",
      "1   LesLie TErRy   62    Male         A+           Obesity        2019-08-20   \n",
      "2    DaNnY sMitH   76  Female         A-           Obesity        2022-09-22   \n",
      "3   andrEw waTtS   28  Female         O+          Diabetes        2020-11-18   \n",
      "4  adrIENNE bEll   43  Female        AB+            Cancer        2022-09-19   \n",
      "\n",
      "             Doctor                    Hospital Insurance Provider  \\\n",
      "0     Matthew Smith             Sons and Miller         Blue Cross   \n",
      "1   Samantha Davies                     Kim Inc           Medicare   \n",
      "2  Tiffany Mitchell                    Cook PLC              Aetna   \n",
      "3       Kevin Wells  Hernandez Rogers and Vang,           Medicare   \n",
      "4    Kathleen Hanna                 White-White              Aetna   \n",
      "\n",
      "   Billing Amount  Room Number Admission Type Discharge Date   Medication  \\\n",
      "0    18856.281306          328         Urgent     2024-02-02  Paracetamol   \n",
      "1    33643.327287          265      Emergency     2019-08-26    Ibuprofen   \n",
      "2    27955.096079          205      Emergency     2022-10-07      Aspirin   \n",
      "3    37909.782410          450       Elective     2020-12-18    Ibuprofen   \n",
      "4    14238.317814          458         Urgent     2022-10-09   Penicillin   \n",
      "\n",
      "   Test Results  \n",
      "0        Normal  \n",
      "1  Inconclusive  \n",
      "2        Normal  \n",
      "3      Abnormal  \n",
      "4      Abnormal  \n"
     ]
    }
   ],
   "source": [
    "print(df.head())"
   ]
  },
  {
   "cell_type": "code",
   "execution_count": 3,
   "id": "2f0dd78c",
   "metadata": {},
   "outputs": [
    {
     "name": "stdout",
     "output_type": "stream",
     "text": [
      "<class 'pandas.core.frame.DataFrame'>\n",
      "RangeIndex: 55500 entries, 0 to 55499\n",
      "Data columns (total 15 columns):\n",
      " #   Column              Non-Null Count  Dtype  \n",
      "---  ------              --------------  -----  \n",
      " 0   Name                55500 non-null  object \n",
      " 1   Age                 55500 non-null  int64  \n",
      " 2   Gender              55500 non-null  object \n",
      " 3   Blood Type          55500 non-null  object \n",
      " 4   Medical Condition   55500 non-null  object \n",
      " 5   Date of Admission   55500 non-null  object \n",
      " 6   Doctor              55500 non-null  object \n",
      " 7   Hospital            55500 non-null  object \n",
      " 8   Insurance Provider  55500 non-null  object \n",
      " 9   Billing Amount      55500 non-null  float64\n",
      " 10  Room Number         55500 non-null  int64  \n",
      " 11  Admission Type      55500 non-null  object \n",
      " 12  Discharge Date      55500 non-null  object \n",
      " 13  Medication          55500 non-null  object \n",
      " 14  Test Results        55500 non-null  object \n",
      "dtypes: float64(1), int64(2), object(12)\n",
      "memory usage: 6.4+ MB\n",
      "None\n"
     ]
    }
   ],
   "source": [
    "print(df.info())"
   ]
  },
  {
   "cell_type": "markdown",
   "id": "6d3f7c97",
   "metadata": {},
   "source": [
    "# Data Cleaning"
   ]
  },
  {
   "cell_type": "markdown",
   "id": "77a97359",
   "metadata": {},
   "source": [
    "### Summary statistics of the numerical columns"
   ]
  },
  {
   "cell_type": "code",
   "execution_count": 4,
   "id": "9762cf45",
   "metadata": {},
   "outputs": [
    {
     "name": "stdout",
     "output_type": "stream",
     "text": [
      "                Age  Billing Amount   Room Number\n",
      "count  55500.000000    55500.000000  55500.000000\n",
      "mean      51.539459    25539.316097    301.134829\n",
      "std       19.602454    14211.454431    115.243069\n",
      "min       13.000000    -2008.492140    101.000000\n",
      "25%       35.000000    13241.224652    202.000000\n",
      "50%       52.000000    25538.069376    302.000000\n",
      "75%       68.000000    37820.508436    401.000000\n",
      "max       89.000000    52764.276736    500.000000\n"
     ]
    }
   ],
   "source": [
    "print(df.describe()) "
   ]
  },
  {
   "cell_type": "markdown",
   "id": "636a6681",
   "metadata": {},
   "source": [
    "### Summary statistics of the categorical columns"
   ]
  },
  {
   "cell_type": "code",
   "execution_count": 5,
   "id": "53468b9c",
   "metadata": {},
   "outputs": [
    {
     "name": "stdout",
     "output_type": "stream",
     "text": [
      "               Name Gender Blood Type Medical Condition Date of Admission  \\\n",
      "count         55500  55500      55500             55500             55500   \n",
      "unique        49992      2          8                 6              1827   \n",
      "top     DAvId muNoZ   Male         A-         Arthritis        2024-03-16   \n",
      "freq              3  27774       6969              9308                50   \n",
      "\n",
      "               Doctor   Hospital Insurance Provider Admission Type  \\\n",
      "count           55500      55500              55500          55500   \n",
      "unique          40341      39876                  5              3   \n",
      "top     Michael Smith  LLC Smith              Cigna       Elective   \n",
      "freq               27         44              11249          18655   \n",
      "\n",
      "       Discharge Date Medication Test Results  \n",
      "count           55500      55500        55500  \n",
      "unique           1856          5            3  \n",
      "top        2020-03-15    Lipitor     Abnormal  \n",
      "freq               53      11140        18627  \n"
     ]
    }
   ],
   "source": [
    "print(df.describe(include='object'))"
   ]
  },
  {
   "cell_type": "markdown",
   "id": "26fb85cf",
   "metadata": {},
   "source": [
    "### Unique values analysis for categorical columns"
   ]
  },
  {
   "cell_type": "code",
   "execution_count": 6,
   "id": "cd8d417f",
   "metadata": {},
   "outputs": [
    {
     "name": "stdout",
     "output_type": "stream",
     "text": [
      "Name Unique Values: 49992\n",
      "DAvId muNoZ       3\n",
      "SOnYa aDams       2\n",
      "terRY gONZaLeZ    2\n",
      "JaCKsON BARbeR    2\n",
      "doNALD aViLA      2\n",
      "                 ..\n",
      "lInDA JOhNSOn     1\n",
      "tyLer paRk        1\n",
      "caROl MyERS       1\n",
      "sHEila MCmaHoN    1\n",
      "HARoLD ACOSTa     1\n",
      "Name: Name, Length: 49992, dtype: int64 \n",
      "\n",
      "Gender Unique Values: 2\n",
      "Male      27774\n",
      "Female    27726\n",
      "Name: Gender, dtype: int64 \n",
      "\n",
      "Blood Type Unique Values: 8\n",
      "A-     6969\n",
      "A+     6956\n",
      "AB+    6947\n",
      "AB-    6945\n",
      "B+     6945\n",
      "B-     6944\n",
      "O+     6917\n",
      "O-     6877\n",
      "Name: Blood Type, dtype: int64 \n",
      "\n",
      "Medical Condition Unique Values: 6\n",
      "Arthritis       9308\n",
      "Diabetes        9304\n",
      "Hypertension    9245\n",
      "Obesity         9231\n",
      "Cancer          9227\n",
      "Asthma          9185\n",
      "Name: Medical Condition, dtype: int64 \n",
      "\n",
      "Date of Admission Unique Values: 1827\n",
      "2024-03-16    50\n",
      "2022-07-24    49\n",
      "2020-10-22    49\n",
      "2021-12-28    48\n",
      "2021-01-03    48\n",
      "              ..\n",
      "2023-04-12    14\n",
      "2022-05-28    14\n",
      "2022-05-23    13\n",
      "2019-07-22    13\n",
      "2022-02-05    12\n",
      "Name: Date of Admission, Length: 1827, dtype: int64 \n",
      "\n",
      "Doctor Unique Values: 40341\n",
      "Michael Smith           27\n",
      "Robert Smith            22\n",
      "John Smith              22\n",
      "Michael Johnson         20\n",
      "James Smith             20\n",
      "                        ..\n",
      "Audrey Zimmerman DDS     1\n",
      "Justin Banks             1\n",
      "Joseph Williams Jr.      1\n",
      "Jason Franklin           1\n",
      "Jeffrey Moore            1\n",
      "Name: Doctor, Length: 40341, dtype: int64 \n",
      "\n",
      "Hospital Unique Values: 39876\n",
      "LLC Smith                      44\n",
      "Ltd Smith                      39\n",
      "Johnson PLC                    38\n",
      "Smith Ltd                      37\n",
      "Smith PLC                      36\n",
      "                               ..\n",
      "and Montoya Flores, Boyer       1\n",
      "Carter and Dunn King,           1\n",
      "Hall, Brown Black and           1\n",
      "Peterson Scott and Thomas,      1\n",
      "Moreno Murphy, Griffith and     1\n",
      "Name: Hospital, Length: 39876, dtype: int64 \n",
      "\n",
      "Insurance Provider Unique Values: 5\n",
      "Cigna               11249\n",
      "Medicare            11154\n",
      "UnitedHealthcare    11125\n",
      "Blue Cross          11059\n",
      "Aetna               10913\n",
      "Name: Insurance Provider, dtype: int64 \n",
      "\n",
      "Admission Type Unique Values: 3\n",
      "Elective     18655\n",
      "Urgent       18576\n",
      "Emergency    18269\n",
      "Name: Admission Type, dtype: int64 \n",
      "\n",
      "Discharge Date Unique Values: 1856\n",
      "2020-03-15    53\n",
      "2021-12-13    51\n",
      "2020-12-02    51\n",
      "2023-04-29    51\n",
      "2020-08-11    50\n",
      "              ..\n",
      "2019-05-11     2\n",
      "2024-06-04     2\n",
      "2024-06-05     2\n",
      "2019-05-09     1\n",
      "2024-06-06     1\n",
      "Name: Discharge Date, Length: 1856, dtype: int64 \n",
      "\n",
      "Medication Unique Values: 5\n",
      "Lipitor        11140\n",
      "Ibuprofen      11127\n",
      "Aspirin        11094\n",
      "Paracetamol    11071\n",
      "Penicillin     11068\n",
      "Name: Medication, dtype: int64 \n",
      "\n",
      "Test Results Unique Values: 3\n",
      "Abnormal        18627\n",
      "Normal          18517\n",
      "Inconclusive    18356\n",
      "Name: Test Results, dtype: int64 \n",
      "\n"
     ]
    }
   ],
   "source": [
    "for col in df.select_dtypes(include='object').columns:\n",
    "    print(f\"{col} Unique Values: {df[col].nunique()}\")\n",
    "    print(df[col].value_counts(), \"\\n\")"
   ]
  },
  {
   "cell_type": "markdown",
   "id": "25a0e211",
   "metadata": {},
   "source": [
    "### Checking for missing values"
   ]
  },
  {
   "cell_type": "code",
   "execution_count": 7,
   "id": "50d7a04a",
   "metadata": {},
   "outputs": [
    {
     "name": "stdout",
     "output_type": "stream",
     "text": [
      "Name                  0\n",
      "Age                   0\n",
      "Gender                0\n",
      "Blood Type            0\n",
      "Medical Condition     0\n",
      "Date of Admission     0\n",
      "Doctor                0\n",
      "Hospital              0\n",
      "Insurance Provider    0\n",
      "Billing Amount        0\n",
      "Room Number           0\n",
      "Admission Type        0\n",
      "Discharge Date        0\n",
      "Medication            0\n",
      "Test Results          0\n",
      "dtype: int64\n"
     ]
    }
   ],
   "source": [
    "print(df.isnull().sum())"
   ]
  },
  {
   "cell_type": "markdown",
   "id": "8f60c2b1",
   "metadata": {},
   "source": [
    "### Standardizing the capitalization of names"
   ]
  },
  {
   "cell_type": "code",
   "execution_count": 8,
   "id": "643aae35",
   "metadata": {},
   "outputs": [],
   "source": [
    "df[\"Name\"] = df[\"Name\"].str.title()"
   ]
  },
  {
   "cell_type": "code",
   "execution_count": 9,
   "id": "cc1d1c62",
   "metadata": {},
   "outputs": [
    {
     "name": "stdout",
     "output_type": "stream",
     "text": [
      "            Name  Age  Gender Blood Type Medical Condition Date of Admission  \\\n",
      "0  Bobby Jackson   30    Male         B-            Cancer        2024-01-31   \n",
      "1   Leslie Terry   62    Male         A+           Obesity        2019-08-20   \n",
      "2    Danny Smith   76  Female         A-           Obesity        2022-09-22   \n",
      "3   Andrew Watts   28  Female         O+          Diabetes        2020-11-18   \n",
      "4  Adrienne Bell   43  Female        AB+            Cancer        2022-09-19   \n",
      "\n",
      "             Doctor                    Hospital Insurance Provider  \\\n",
      "0     Matthew Smith             Sons and Miller         Blue Cross   \n",
      "1   Samantha Davies                     Kim Inc           Medicare   \n",
      "2  Tiffany Mitchell                    Cook PLC              Aetna   \n",
      "3       Kevin Wells  Hernandez Rogers and Vang,           Medicare   \n",
      "4    Kathleen Hanna                 White-White              Aetna   \n",
      "\n",
      "   Billing Amount  Room Number Admission Type Discharge Date   Medication  \\\n",
      "0    18856.281306          328         Urgent     2024-02-02  Paracetamol   \n",
      "1    33643.327287          265      Emergency     2019-08-26    Ibuprofen   \n",
      "2    27955.096079          205      Emergency     2022-10-07      Aspirin   \n",
      "3    37909.782410          450       Elective     2020-12-18    Ibuprofen   \n",
      "4    14238.317814          458         Urgent     2022-10-09   Penicillin   \n",
      "\n",
      "   Test Results  \n",
      "0        Normal  \n",
      "1  Inconclusive  \n",
      "2        Normal  \n",
      "3      Abnormal  \n",
      "4      Abnormal  \n"
     ]
    }
   ],
   "source": [
    "print(df.head())"
   ]
  },
  {
   "cell_type": "markdown",
   "id": "f6da00a0",
   "metadata": {},
   "source": [
    "### Fixing misaligned text in hospital column"
   ]
  },
  {
   "cell_type": "code",
   "execution_count": 13,
   "id": "b55af7bc",
   "metadata": {},
   "outputs": [],
   "source": [
    "df[\"Hospital\"] = (\n",
    "    df[\"Hospital\"]\n",
    "    .str.replace(\",\", \" \", regex=True)         \n",
    "    .str.replace(r\"\\bAnd\\b\", \"\", regex=True)  \n",
    "    .str.replace(r\"\\($\", \"\", regex=True)      \n",
    "    .str.rstrip(\"'\")                           \n",
    "    .str.replace(r\"\\s+\", \" \", regex=True)\n",
    "    .str.title().str.strip()                   \n",
    ")"
   ]
  },
  {
   "cell_type": "code",
   "execution_count": 14,
   "id": "bad83bec",
   "metadata": {},
   "outputs": [
    {
     "name": "stdout",
     "output_type": "stream",
     "text": [
      "['Sons Miller' 'Kim Inc' 'Cook Plc' ... 'Guzman Jones Graves'\n",
      " 'Williams Brown Mckenzie' 'Moreno Murphy Griffith']\n"
     ]
    }
   ],
   "source": [
    "print(df[\"Hospital\"].unique())"
   ]
  },
  {
   "cell_type": "code",
   "execution_count": 15,
   "id": "d20b2df5",
   "metadata": {},
   "outputs": [
    {
     "name": "stdout",
     "output_type": "stream",
     "text": [
      "0               Sons Miller\n",
      "1                   Kim Inc\n",
      "2                  Cook Plc\n",
      "3     Hernandez Rogers Vang\n",
      "4               White-White\n",
      "5            Nunez-Humphrey\n",
      "6           Group Middleton\n",
      "7    Powell Robinson Valdez\n",
      "8                 Sons Rich\n",
      "9            Padilla-Walker\n",
      "Name: Hospital, dtype: object\n"
     ]
    }
   ],
   "source": [
    "print(df[\"Hospital\"].head(10)) "
   ]
  },
  {
   "cell_type": "markdown",
   "id": "55404658",
   "metadata": {},
   "source": [
    "### Remove duplicates columns and keep unique columns"
   ]
  },
  {
   "cell_type": "code",
   "execution_count": 16,
   "id": "94f30c58",
   "metadata": {},
   "outputs": [],
   "source": [
    "df[\"Name\"] = df[\"Name\"].str.title().str.strip()\n",
    "df = df.drop_duplicates(subset=[\"Name\", \"Date of Admission\"], ignore_index=True)"
   ]
  },
  {
   "cell_type": "code",
   "execution_count": 17,
   "id": "f24e76de",
   "metadata": {
    "scrolled": true
   },
   "outputs": [
    {
     "data": {
      "text/plain": [
       "Michael Smith        24\n",
       "John Smith           21\n",
       "Robert Smith         19\n",
       "Michael Johnson      19\n",
       "David Smith          18\n",
       "Michael Williams     17\n",
       "James Smith          17\n",
       "Robert Johnson       17\n",
       "Christopher Smith    16\n",
       "Matthew Smith        16\n",
       "Name: Doctor, dtype: int64"
      ]
     },
     "execution_count": 17,
     "metadata": {},
     "output_type": "execute_result"
    }
   ],
   "source": [
    "df[\"Doctor\"] = df[\"Doctor\"].str.title().str.strip()\n",
    "\n",
    "df[\"Doctor\"].value_counts().head(10)"
   ]
  },
  {
   "cell_type": "code",
   "execution_count": 18,
   "id": "d27a1a1d",
   "metadata": {},
   "outputs": [
    {
     "data": {
      "text/plain": [
       "Llc Smith      40\n",
       "Smith Ltd      35\n",
       "Johnson Plc    35\n",
       "Ltd Smith      35\n",
       "Smith Plc      33\n",
       "Smith Group    32\n",
       "Sons Smith     31\n",
       "Group Smith    30\n",
       "Johnson Inc    29\n",
       "Smith Inc      29\n",
       "Name: Hospital, dtype: int64"
      ]
     },
     "execution_count": 18,
     "metadata": {},
     "output_type": "execute_result"
    }
   ],
   "source": [
    "df[\"Hospital\"] = df[\"Hospital\"].str.title().str.strip()\n",
    "\n",
    "df[\"Hospital\"].value_counts().head(10)"
   ]
  },
  {
   "cell_type": "markdown",
   "id": "98c568c1",
   "metadata": {},
   "source": [
    "### Convert admission date and discharge date to datetime"
   ]
  },
  {
   "cell_type": "code",
   "execution_count": 19,
   "id": "e87a4632",
   "metadata": {},
   "outputs": [],
   "source": [
    "df[\"Date of Admission\"] = pd.to_datetime(df[\"Date of Admission\"])\n",
    "df[\"Discharge Date\"] = pd.to_datetime(df[\"Discharge Date\"])"
   ]
  },
  {
   "cell_type": "markdown",
   "id": "61a54f4a",
   "metadata": {},
   "source": [
    "### Correct discharge dates where is earlier than admission date"
   ]
  },
  {
   "cell_type": "code",
   "execution_count": 20,
   "id": "a850fda6",
   "metadata": {},
   "outputs": [
    {
     "data": {
      "text/html": [
       "<div>\n",
       "<style scoped>\n",
       "    .dataframe tbody tr th:only-of-type {\n",
       "        vertical-align: middle;\n",
       "    }\n",
       "\n",
       "    .dataframe tbody tr th {\n",
       "        vertical-align: top;\n",
       "    }\n",
       "\n",
       "    .dataframe thead th {\n",
       "        text-align: right;\n",
       "    }\n",
       "</style>\n",
       "<table border=\"1\" class=\"dataframe\">\n",
       "  <thead>\n",
       "    <tr style=\"text-align: right;\">\n",
       "      <th></th>\n",
       "      <th>Name</th>\n",
       "      <th>Age</th>\n",
       "      <th>Gender</th>\n",
       "      <th>Blood Type</th>\n",
       "      <th>Medical Condition</th>\n",
       "      <th>Date of Admission</th>\n",
       "      <th>Doctor</th>\n",
       "      <th>Hospital</th>\n",
       "      <th>Insurance Provider</th>\n",
       "      <th>Billing Amount</th>\n",
       "      <th>Room Number</th>\n",
       "      <th>Admission Type</th>\n",
       "      <th>Discharge Date</th>\n",
       "      <th>Medication</th>\n",
       "      <th>Test Results</th>\n",
       "    </tr>\n",
       "  </thead>\n",
       "  <tbody>\n",
       "  </tbody>\n",
       "</table>\n",
       "</div>"
      ],
      "text/plain": [
       "Empty DataFrame\n",
       "Columns: [Name, Age, Gender, Blood Type, Medical Condition, Date of Admission, Doctor, Hospital, Insurance Provider, Billing Amount, Room Number, Admission Type, Discharge Date, Medication, Test Results]\n",
       "Index: []"
      ]
     },
     "execution_count": 20,
     "metadata": {},
     "output_type": "execute_result"
    }
   ],
   "source": [
    "df.loc[df[\"Discharge Date\"] < df[\"Date of Admission\"], \"Discharge Date\"] = df[\"Date of Admission\"]\n",
    "\n",
    "df[df[\"Discharge Date\"] < df[\"Date of Admission\"]]"
   ]
  },
  {
   "cell_type": "markdown",
   "id": "5b3cb741",
   "metadata": {},
   "source": [
    "# Data Visualization"
   ]
  },
  {
   "cell_type": "markdown",
   "id": "30b88bc1",
   "metadata": {},
   "source": [
    "### Common medical conditions distribution"
   ]
  },
  {
   "cell_type": "code",
   "execution_count": 21,
   "id": "79ee66b1",
   "metadata": {},
   "outputs": [
    {
     "data": {
      "image/png": "[encoded data removed]",
      "text/plain": [
       "<Figure size 800x300 with 1 Axes>"
      ]
     },
     "metadata": {},
     "output_type": "display_data"
    }
   ],
   "source": [
    "plt.figure(figsize=(8,3))\n",
    "sns.countplot(y=df[\"Medical Condition\"], order=df[\"Medical Condition\"].value_counts().index, palette=sns.color_palette(\"coolwarm\", 6))\n",
    "plt.title(\"Most Common Medical Conditions\")\n",
    "plt.show()"
   ]
  },
  {
   "cell_type": "markdown",
   "id": "2df9048e",
   "metadata": {},
   "source": [
    "### Age distribution"
   ]
  },
  {
   "cell_type": "code",
   "execution_count": 22,
   "id": "37f08af9",
   "metadata": {},
   "outputs": [
    {
     "data": {
      "image/png": "[encoded data removed]",
      "text/plain": [
       "<Figure size 800x400 with 1 Axes>"
      ]
     },
     "metadata": {},
     "output_type": "display_data"
    }
   ],
   "source": [
    "plt.figure(figsize=(8,4))\n",
    "sns.histplot(df[\"Age\"], bins=30, kde=True)\n",
    "plt.title(\"Age Distribution\")\n",
    "plt.xlabel(\"Age\")\n",
    "plt.ylabel(\"Frequency\")\n",
    "plt.show()"
   ]
  },
  {
   "cell_type": "markdown",
   "id": "b8d51125",
   "metadata": {},
   "source": [
    "### Admission types distribution"
   ]
  },
  {
   "cell_type": "code",
   "execution_count": 23,
   "id": "6c2c3677",
   "metadata": {},
   "outputs": [
    {
     "data": {
      "image/png": "[encoded data removed]",
      "text/plain": [
       "<Figure size 640x480 with 1 Axes>"
      ]
     },
     "metadata": {},
     "output_type": "display_data"
    }
   ],
   "source": [
    "sns.countplot(x=\"Admission Type\", data=df)\n",
    "plt.title(\"Types of Patient Admissions\")\n",
    "plt.xticks(rotation=45)\n",
    "plt.show()"
   ]
  },
  {
   "cell_type": "markdown",
   "id": "2ec15160",
   "metadata": {},
   "source": [
    "### Billing amounts distribution"
   ]
  },
  {
   "cell_type": "code",
   "execution_count": 24,
   "id": "3e01eace",
   "metadata": {},
   "outputs": [
    {
     "data": {
      "image/png": "[encoded data removed]",
      "text/plain": [
       "<Figure size 600x400 with 1 Axes>"
      ]
     },
     "metadata": {},
     "output_type": "display_data"
    }
   ],
   "source": [
    "plt.figure(figsize=(6,4))\n",
    "sns.boxplot(x=df[\"Billing Amount\"], palette=\"pastel\")\n",
    "plt.title(\"Billing Amount Distribution\")\n",
    "plt.show()"
   ]
  },
  {
   "cell_type": "markdown",
   "id": "316802e7",
   "metadata": {},
   "source": [
    "### Test results distribution"
   ]
  },
  {
   "cell_type": "code",
   "execution_count": 25,
   "id": "2e9109bd",
   "metadata": {},
   "outputs": [
    {
     "data": {
      "image/png": "[encoded data removed]",
      "text/plain": [
       "<Figure size 640x480 with 1 Axes>"
      ]
     },
     "metadata": {},
     "output_type": "display_data"
    }
   ],
   "source": [
    "df[\"Test Results\"].value_counts().plot(kind=\"pie\", autopct=\"%1.1f%%\", colors=[\"skyblue\", \"lightpink\", \"lightgreen\"])\n",
    "plt.title(\"Test Results Distribution\")\n",
    "plt.ylabel(None)\n",
    "plt.show()"
   ]
  },
  {
   "cell_type": "markdown",
   "id": "d21c3e31",
   "metadata": {},
   "source": [
    "### Count test results grouped by medication"
   ]
  },
  {
   "cell_type": "code",
   "execution_count": 26,
   "id": "faf292e7",
   "metadata": {},
   "outputs": [
    {
     "data": {
      "image/png": "[encoded data removed]",
      "text/plain": [
       "<Figure size 800x400 with 1 Axes>"
      ]
     },
     "metadata": {},
     "output_type": "display_data"
    }
   ],
   "source": [
    "plt.figure(figsize=(8,4))\n",
    "sns.countplot(x=\"Test Results\", hue=\"Medication\", data=df, palette=\"pastel\")\n",
    "\n",
    "plt.title(\"Test Results by Medication\")\n",
    "plt.xlabel(\"Test Results\")\n",
    "plt.ylabel(\"Count\")\n",
    "plt.legend(title=\"Medication\")\n",
    "\n",
    "plt.show()"
   ]
  },
  {
   "cell_type": "markdown",
   "id": "1425b8f2",
   "metadata": {},
   "source": [
    "### Test Results Summary by Medical Condition"
   ]
  },
  {
   "cell_type": "code",
   "execution_count": 27,
   "id": "e197c3a4",
   "metadata": {},
   "outputs": [
    {
     "data": {
      "text/html": [
       "<div>\n",
       "<style scoped>\n",
       "    .dataframe tbody tr th:only-of-type {\n",
       "        vertical-align: middle;\n",
       "    }\n",
       "\n",
       "    .dataframe tbody tr th {\n",
       "        vertical-align: top;\n",
       "    }\n",
       "\n",
       "    .dataframe thead th {\n",
       "        text-align: right;\n",
       "    }\n",
       "</style>\n",
       "<table border=\"1\" class=\"dataframe\">\n",
       "  <thead>\n",
       "    <tr style=\"text-align: right;\">\n",
       "      <th>Test Results</th>\n",
       "      <th>Abnormal</th>\n",
       "      <th>Inconclusive</th>\n",
       "      <th>Normal</th>\n",
       "    </tr>\n",
       "    <tr>\n",
       "      <th>Medical Condition</th>\n",
       "      <th></th>\n",
       "      <th></th>\n",
       "      <th></th>\n",
       "    </tr>\n",
       "  </thead>\n",
       "  <tbody>\n",
       "    <tr>\n",
       "      <th>Arthritis</th>\n",
       "      <td>2907</td>\n",
       "      <td>2788</td>\n",
       "      <td>2742</td>\n",
       "    </tr>\n",
       "    <tr>\n",
       "      <th>Asthma</th>\n",
       "      <td>2697</td>\n",
       "      <td>2720</td>\n",
       "      <td>2854</td>\n",
       "    </tr>\n",
       "    <tr>\n",
       "      <th>Cancer</th>\n",
       "      <td>2796</td>\n",
       "      <td>2747</td>\n",
       "      <td>2746</td>\n",
       "    </tr>\n",
       "    <tr>\n",
       "      <th>Diabetes</th>\n",
       "      <td>2830</td>\n",
       "      <td>2765</td>\n",
       "      <td>2786</td>\n",
       "    </tr>\n",
       "    <tr>\n",
       "      <th>Hypertension</th>\n",
       "      <td>2720</td>\n",
       "      <td>2789</td>\n",
       "      <td>2807</td>\n",
       "    </tr>\n",
       "    <tr>\n",
       "      <th>Obesity</th>\n",
       "      <td>2818</td>\n",
       "      <td>2728</td>\n",
       "      <td>2746</td>\n",
       "    </tr>\n",
       "  </tbody>\n",
       "</table>\n",
       "</div>"
      ],
      "text/plain": [
       "Test Results       Abnormal  Inconclusive  Normal\n",
       "Medical Condition                                \n",
       "Arthritis              2907          2788    2742\n",
       "Asthma                 2697          2720    2854\n",
       "Cancer                 2796          2747    2746\n",
       "Diabetes               2830          2765    2786\n",
       "Hypertension           2720          2789    2807\n",
       "Obesity                2818          2728    2746"
      ]
     },
     "execution_count": 27,
     "metadata": {},
     "output_type": "execute_result"
    }
   ],
   "source": [
    "test_results_summary = df.pivot_table(\n",
    "    index=\"Medical Condition\", \n",
    "    columns=\"Test Results\", \n",
    "    aggfunc=\"size\", \n",
    "    fill_value=0\n",
    ")\n",
    "\n",
    "test_results_summary.columns.name = \"Test Results\"\n",
    "test_results_summary"
   ]
  }
 ],
 "metadata": {
  "kernelspec": {
   "display_name": "Python 3 (ipykernel)",
   "language": "python",
   "name": "python3"
  },
  "language_info": {
   "codemirror_mode": {
    "name": "ipython",
    "version": 3
   },
   "file_extension": ".py",
   "mimetype": "text/x-python",
   "name": "python",
   "nbconvert_exporter": "python",
   "pygments_lexer": "ipython3",
   "version": "3.10.9"
  }
 },
 "nbformat": 4,
 "nbformat_minor": 5
}
